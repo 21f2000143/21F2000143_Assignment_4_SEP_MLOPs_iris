{
 "cells": [
  {
   "cell_type": "markdown",
   "metadata": {
    "id": "A7ffktm_Ty80"
   },
   "source": [
    "# MLOps Graded Assignment - Week 3 Resources \n",
    "\n",
    "# Time-Aware Iris Dataset for Feast Tutorial\n",
    "\n",
    "## Overview\n",
    "\n",
    "This directory contains a modified, time-series version of the classic Iris dataset. It has been specifically generated to be compatible with the [Feast feature store](https://feast.dev/) and is intended for use in a hands-on tutorial.\n",
    "\n",
    "Unlike the original static dataset, this version simulates the tracking of features for a few individual iris plants over a period of time, making it suitable for demonstrating real-world feature store concepts.\n",
    "\n",
    "---\n",
    "\n",
    "## The Problem with the Standard Iris Dataset\n",
    "\n",
    "The standard Iris dataset is a simple table of 150 measurements. While excellent for basic classification tasks, it is unsuitable for demonstrating a feature store because it lacks:\n",
    "\n",
    "1.  **An Entity**: There is no unique identifier for the object being measured (e.g., a specific plant ID). Feast requires an entity to associate features with.\n",
    "2.  **Timestamps**: All data exists at a single, unknown point in time. Feast is built around time-series data to provide point-in-time correctness and prevent data leakage in training sets.\n",
    "\n",
    "This dataset solves these issues by introducing an `iris_id` as the entity and an `event_timestamp` for each feature measurement.\n",
    "\n",
    "---\n",
    "\n",
    "## Dataset Schema\n",
    "\n",
    "The data is stored in the `iris_data_adapted_for_feast.csv` file and has the following columns:\n",
    "\n",
    "| Column Name         | Data Type | Description                                                                                                                                                             | Feast Role             |\n",
    "| ------------------- | --------- | ----------------------------------------------------------------------------------------------------------------------------------------------------------------------- | ---------------------- |\n",
    "| `event_timestamp`   | Timestamp | The exact UTC timestamp when the measurement was recorded. This is crucial for historical lookups and point-in-time joins.                                               | **Timestamp Field** |\n",
    "| `iris_id`           | Integer   | A unique identifier for each individual iris plant being tracked.                                                                                                         | **Entity Key** |\n",
    "| `sepal_length`      | Float     | The length of the sepal in centimeters.                                                                                                                                 | Feature                |\n",
    "| `sepal_width`       | Float     | The width of the sepal in centimeters.                                                                                                                                  | Feature                |\n",
    "| `petal_length`      | Float     | The length of the petal in centimeters.                                                                                                                                 | Feature                |\n",
    "| `petal_width`       | Float     | The width of the petal in centimeters.                                                                                                                                  | Feature                |\n",
    "| `species`           | String    | The species of the iris plant (`setosa`, `versicolor`, or `virginica`). Can be used as a feature or a prediction target (label).                                          | Feature / Label        |\n",
    "| `created_timestamp` | Timestamp | The UTC timestamp when the data row was created or ingested. Feast can use this to resolve data freshness.                                                                | **Created Timestamp** |\n",
    "\n",
    "---\n",
    "\n",
    "## How The Data Was Generated\n",
    "\n",
    "This dataset was synthetically generated using a Python script:\n",
    "\n",
    "1.  The base data comes from the `scikit-learn` Iris dataset.\n",
    "2.  We simulated **3 unique iris plants** and assigned each an `iris_id` (1001, 1002, 1003).\n",
    "3.  For each plant, we generated **15 days of sequential data**, creating a unique `event_timestamp` for each day.\n",
    "4.  To simulate real-world variance, a small amount of random noise was added to the feature measurements (`sepal_length`, etc.) for each timestamp.\n",
    "5.  The final DataFrame was saved in the efficient Parquet file format.\n",
    "\n",
    "---"
   ]
  },
  {
   "cell_type": "markdown",
   "metadata": {
    "id": "qa-41097T0vH"
   },
   "source": [
    "### Overview\n",
    "Making a prediction using a linear regression model is a common use case in ML. In this guide tutorial, we build the model that predicts if a driver will complete a trip based on a number of features ingested into Feast.\n",
    "\n",
    "The basic local mode gives you ability to quickly try Feast, while the advanced mode shows how you can use Feast in a production setting, in particular for the Google Cloud Platform (GCP) cloud.\n",
    "\n",
    "This tutorial uses Feast with scikit learn to:\n",
    "\n",
    "* Train a model locally using data from BigQuery\n",
    "* Test the model for online inference using SQLite (for fast iteration)\n",
    "* Test the model for online inference using Firestore (to represent production)\n"
   ]
  },
  {
   "cell_type": "markdown",
   "metadata": {
    "id": "j1Qipu_GUYdA"
   },
   "source": [
    "## Step 1: Install feast, scikit-learn\n",
    "\n",
    "Install feast, gcp dependencies and scikit-learn\n"
   ]
  },
  {
   "cell_type": "code",
   "execution_count": 4,
   "metadata": {
    "colab": {
     "base_uri": "https://localhost:8080/",
     "height": 1000
    },
    "id": "gxuVxKG3Ua6z",
    "outputId": "8b9a95a1-3b2f-41c8-e3df-d94152131a30",
    "tags": []
   },
   "outputs": [],
   "source": [
    "!pip install --quiet feast scikit-learn 'feast[gcp]'"
   ]
  },
  {
   "cell_type": "markdown",
   "metadata": {
    "id": "P8pFSVUp34W5"
   },
   "source": [
    "#### Check feast version"
   ]
  },
  {
   "cell_type": "code",
   "execution_count": 3,
   "metadata": {
    "colab": {
     "base_uri": "https://localhost:8080/"
    },
    "id": "cOSAfdZiUnFa",
    "outputId": "f3b46ec7-f657-47b2-c7e6-cc679d2a938d",
    "tags": []
   },
   "outputs": [
    {
     "name": "stdout",
     "output_type": "stream",
     "text": [
      "\u001b[1m\u001b[34mFeast SDK Version: \u001b[1m\u001b[32m\"0.55.0\"\n"
     ]
    }
   ],
   "source": [
    "!feast version"
   ]
  },
  {
   "cell_type": "markdown",
   "metadata": {
    "id": "pC4AzJ_b396l"
   },
   "source": [
    "## Step 2: Clone the Git repo (Not needed for assignment)\n",
    "\n",
    "Clone the Driver Ranking Git repo into your Colab Folder"
   ]
  },
  {
   "cell_type": "code",
   "execution_count": 5,
   "metadata": {
    "colab": {
     "base_uri": "https://localhost:8080/"
    },
    "id": "4Qim_qbtUyGA",
    "outputId": "5f197c74-8451-4146-dde4-2e940d81fab5",
    "tags": []
   },
   "outputs": [
    {
     "name": "stdout",
     "output_type": "stream",
     "text": [
      "Cloning into 'feast-driver-ranking-tutorial'...\n",
      "remote: Enumerating objects: 65, done.\u001b[K\n",
      "remote: Counting objects: 100% (65/65), done.\u001b[K\n",
      "remote: Compressing objects: 100% (49/49), done.\u001b[K\n",
      "remote: Total 65 (delta 26), reused 43 (delta 14), pack-reused 0 (from 0)\u001b[K\n",
      "Receiving objects: 100% (65/65), 21.31 KiB | 5.33 MiB/s, done.\n",
      "Resolving deltas: 100% (26/26), done.\n"
     ]
    }
   ],
   "source": [
    "# !git clone https://github.com/feast-dev/feast-driver-ranking-tutorial.git"
   ]
  },
  {
   "cell_type": "markdown",
   "metadata": {
    "id": "tLnM3IOy5C5l"
   },
   "source": [
    "## Step 3: Set up your Goggle Cloud Platform (GCP) Configurations"
   ]
  },
  {
   "cell_type": "markdown",
   "metadata": {
    "id": "d8yzazB-Wfqc"
   },
   "source": [
    "Set configurations\n",
    "Set the following configuration, which we'll be using throughout the tutorial:\n",
    "\n",
    "PROJECT_ID: Your project.\n",
    "BUCKET_NAME: The name of a bucket which will be used to store the feature store registry and model artifacts.\n",
    "BIGQUERY_DATASET_NAME: The name of a dataset which will be used to create tables containing features.\n",
    "AI_PLATFORM_MODEL_NAME: The name of a model name which will be created in AI Platform."
   ]
  },
  {
   "cell_type": "code",
   "execution_count": 7,
   "metadata": {
    "colab": {
     "base_uri": "https://localhost:8080/"
    },
    "id": "zV0sgfOTWeXz",
    "outputId": "40cbea39-eb26-4781-da3f-8f00b86c7715",
    "tags": []
   },
   "outputs": [
    {
     "name": "stdout",
     "output_type": "stream",
     "text": [
      "Updated property [core/project].\n",
      "env: GOOGLE_CLOUD_PROJECT=ivory-totem-474120-s5\n"
     ]
    }
   ],
   "source": [
    "PROJECT_ID= \"ivory-totem-474120-s5\" #@param {type:\"string\"}\n",
    "BUCKET_NAME= \"21f2000143-mlops-week3-ga-3-feast\" #@param {type:\"string\"} custom\n",
    "BIGQUERY_DATASET_NAME=\"21f2000143-mlops-week3-ga-3-feast\" #@param {type:\"string\"} custom\n",
    "AI_PLATFORM_MODEL_NAME=\"21f2000143-mlops-week3-ga-3-feast\" #@param {type:\"string\"\n",
    "\n",
    "! gcloud config set project $PROJECT_ID\n",
    "%env GOOGLE_CLOUD_PROJECT=$PROJECT_ID\n",
    "!echo project_id = $PROJECT_ID > ~/.bigqueryrc"
   ]
  },
  {
   "cell_type": "code",
   "execution_count": 8,
   "metadata": {
    "colab": {
     "base_uri": "https://localhost:8080/"
    },
    "id": "6Cs_SYr2gOjR",
    "outputId": "2817fe5b-02ec-4f3e-c9bf-664eb8993d60",
    "tags": []
   },
   "outputs": [
    {
     "name": "stdout",
     "output_type": "stream",
     "text": [
      "Creating gs://21f2000143-mlops-week3-ga-3-feast/...\n",
      "ServiceException: 409 A Cloud Storage bucket named '21f2000143-mlops-week3-ga-3-feast' already exists. Try another name. Bucket names must be globally unique across all Google Cloud projects, including those outside of your organization.\n"
     ]
    }
   ],
   "source": [
    "# Only run if your bucket doesn't already exist!\n",
    "! gsutil mb gs://$BUCKET_NAME"
   ]
  },
  {
   "cell_type": "markdown",
   "metadata": {
    "id": "ohWMCVhS5PPN"
   },
   "source": [
    "## Step 4: Apply and deploy feature definitions\n",
    "\n",
    "`feast apply` scans python files in the current directory for feature definitions and deploys infrastructure according to `feature_store.yaml`"
   ]
  },
  {
   "cell_type": "code",
   "execution_count": 12,
   "metadata": {
    "colab": {
     "base_uri": "https://localhost:8080/"
    },
    "id": "izhTk0WWX3Tx",
    "outputId": "81e00044-7714-41e9-ba6a-3948b6306889",
    "tags": []
   },
   "outputs": [
    {
     "name": "stdout",
     "output_type": "stream",
     "text": [
      "Traceback (most recent call last):\n",
      "  File \"/opt/conda/bin/feast\", line 7, in <module>\n",
      "    sys.exit(cli())\n",
      "  File \"/opt/conda/lib/python3.10/site-packages/click/core.py\", line 1161, in __call__\n",
      "    return self.main(*args, **kwargs)\n",
      "  File \"/opt/conda/lib/python3.10/site-packages/click/core.py\", line 1082, in main\n",
      "    rv = self.invoke(ctx)\n",
      "  File \"/opt/conda/lib/python3.10/site-packages/click/core.py\", line 1697, in invoke\n",
      "    return _process_result(sub_ctx.command.invoke(sub_ctx))\n",
      "  File \"/opt/conda/lib/python3.10/site-packages/click/core.py\", line 1443, in invoke\n",
      "    return ctx.invoke(self.callback, **ctx.params)\n",
      "  File \"/opt/conda/lib/python3.10/site-packages/click/core.py\", line 788, in invoke\n",
      "    return __callback(*args, **kwargs)\n",
      "  File \"/opt/conda/lib/python3.10/site-packages/click/decorators.py\", line 33, in new_func\n",
      "    return f(get_current_context(), *args, **kwargs)\n",
      "  File \"/opt/conda/lib/python3.10/site-packages/feast/cli/cli.py\", line 272, in apply_total_command\n",
      "    apply_total(repo_config, repo, skip_source_validation)\n",
      "  File \"/opt/conda/lib/python3.10/site-packages/feast/repo_operations.py\", line 401, in apply_total\n",
      "    repo = _get_repo_contents(repo_path, repo_config.project, repo_config)\n",
      "  File \"/opt/conda/lib/python3.10/site-packages/feast/repo_operations.py\", line 248, in _get_repo_contents\n",
      "    repo = parse_repo(repo_path)\n",
      "  File \"/opt/conda/lib/python3.10/site-packages/feast/repo_operations.py\", line 135, in parse_repo\n",
      "    module = importlib.import_module(module_path)\n",
      "  File \"/opt/conda/lib/python3.10/importlib/__init__.py\", line 126, in import_module\n",
      "    return _bootstrap._gcd_import(name[level:], package, level)\n",
      "  File \"<frozen importlib._bootstrap>\", line 1050, in _gcd_import\n",
      "  File \"<frozen importlib._bootstrap>\", line 1027, in _find_and_load\n",
      "  File \"<frozen importlib._bootstrap>\", line 1006, in _find_and_load_unlocked\n",
      "  File \"<frozen importlib._bootstrap>\", line 688, in _load_unlocked\n",
      "  File \"<frozen importlib._bootstrap_external>\", line 883, in exec_module\n",
      "  File \"<frozen importlib._bootstrap>\", line 241, in _call_with_frames_removed\n",
      "  File \"/home/jupyter/ga_resources/feast-driver-ranking-tutorial/driver_ranking/driver_repo.py\", line 5, in <module>\n",
      "    driver = Entity(name=\"driver_id\", join_key=\"driver_id\", value_type=ValueType.INT64,)\n",
      "TypeError: Entity.__init__() got an unexpected keyword argument 'join_key'\n"
     ]
    }
   ],
   "source": [
    "!cd feast-driver-ranking-tutorial/driver_ranking && feast apply"
   ]
  },
  {
   "cell_type": "markdown",
   "metadata": {
    "id": "lJlrf2Iu53BR"
   },
   "source": [
    "### Inspect the files created under your local folder"
   ]
  },
  {
   "cell_type": "code",
   "execution_count": null,
   "metadata": {
    "colab": {
     "base_uri": "https://localhost:8080/"
    },
    "id": "IrJ6gqtdmKk7",
    "outputId": "7e430334-8824-47d4-af7f-ec5756261b19"
   },
   "outputs": [
    {
     "name": "stdout",
     "output_type": "stream",
     "text": [
      "total 20\n",
      "-rw-r--r-- 1 root root 16384 Mar 20 02:49 online.db\n",
      "-rw-r--r-- 1 root root   787 Mar 20 02:57 registry.db\n"
     ]
    },
    {
     "data": {
      "text/plain": []
     },
     "execution_count": 8,
     "metadata": {},
     "output_type": "execute_result"
    }
   ],
   "source": [
    "%%shell\n",
    "cd /content/feast-driver-ranking-tutorial/driver_ranking/data/\n",
    "ls -l"
   ]
  },
  {
   "cell_type": "markdown",
   "metadata": {
    "id": "bHBfTEau6Qt9"
   },
   "source": [
    "## Step 5: Train your model"
   ]
  },
  {
   "cell_type": "code",
   "execution_count": null,
   "metadata": {
    "colab": {
     "base_uri": "https://localhost:8080/"
    },
    "id": "f9KQMw__eOkg",
    "outputId": "81294301-f1d6-4f88-c697-98365fdfe153"
   },
   "outputs": [
    {
     "name": "stdout",
     "output_type": "stream",
     "text": [
      "Requirement already satisfied: numpy<2 in /usr/local/lib/python3.11/dist-packages (1.26.4)\n",
      "Requirement already satisfied: pandas==2.2.2 in /usr/local/lib/python3.11/dist-packages (2.2.2)\n",
      "Requirement already satisfied: python-dateutil>=2.8.2 in /usr/local/lib/python3.11/dist-packages (from pandas==2.2.2) (2.8.2)\n",
      "Requirement already satisfied: pytz>=2020.1 in /usr/local/lib/python3.11/dist-packages (from pandas==2.2.2) (2025.1)\n",
      "Requirement already satisfied: tzdata>=2022.7 in /usr/local/lib/python3.11/dist-packages (from pandas==2.2.2) (2025.1)\n",
      "Requirement already satisfied: six>=1.5 in /usr/local/lib/python3.11/dist-packages (from python-dateutil>=2.8.2->pandas==2.2.2) (1.17.0)\n"
     ]
    }
   ],
   "source": [
    "!pip install \"numpy<2\" \"pandas==2.2.2\""
   ]
  },
  {
   "cell_type": "code",
   "execution_count": null,
   "metadata": {
    "colab": {
     "base_uri": "https://localhost:8080/"
    },
    "id": "F-Pc4Jo4kzBL",
    "outputId": "3b132644-68f1-4ac6-d190-c550dfdc6aa8"
   },
   "outputs": [
    {
     "name": "stderr",
     "output_type": "stream",
     "text": [
      "/usr/local/lib/python3.11/dist-packages/feast/repo_config.py:267: RuntimeWarning: `entity_key_serialization_version` is either not specified in the feature_store.yaml, or is specified to a value <= 1.This serialization version may cause errors when trying to write fields with the `Long` data type into the online store. Specifying `entity_key_serialization_version` to 2 is recommended for new projects. \n",
      "  warnings.warn(\n"
     ]
    },
    {
     "name": "stdout",
     "output_type": "stream",
     "text": [
      "----- Feature schema -----\n",
      "\n",
      "<class 'pandas.core.frame.DataFrame'>\n",
      "RangeIndex: 10 entries, 0 to 9\n",
      "Data columns (total 6 columns):\n",
      " #   Column           Non-Null Count  Dtype              \n",
      "---  ------           --------------  -----              \n",
      " 0   event_timestamp  10 non-null     datetime64[us, UTC]\n",
      " 1   driver_id        10 non-null     int64              \n",
      " 2   trip_completed   10 non-null     int64              \n",
      " 3   conv_rate        10 non-null     float64            \n",
      " 4   acc_rate         10 non-null     float64            \n",
      " 5   avg_daily_trips  10 non-null     int64              \n",
      "dtypes: datetime64[us, UTC](1), float64(2), int64(3)\n",
      "memory usage: 612.0 bytes\n",
      "None\n",
      "\n",
      "----- Example features -----\n",
      "\n",
      "            event_timestamp  driver_id  trip_completed  conv_rate  acc_rate  \\\n",
      "0 2021-04-17 04:29:28+00:00       1002               0   0.586277  0.374841   \n",
      "1 2021-04-19 04:29:28+00:00       1002               0   0.586277  0.374841   \n",
      "2 2021-04-18 04:29:28+00:00       1002               0   0.586277  0.374841   \n",
      "3 2021-04-18 12:29:28+00:00       1003               0   0.274296  0.360248   \n",
      "4 2021-04-19 12:29:28+00:00       1003               0   0.274296  0.360248   \n",
      "\n",
      "   avg_daily_trips  \n",
      "0              982  \n",
      "1              982  \n",
      "2              982  \n",
      "3              551  \n",
      "4              551  \n"
     ]
    },
    {
     "data": {
      "text/plain": [
       "['driver_model.bin']"
      ]
     },
     "execution_count": 11,
     "metadata": {},
     "output_type": "execute_result"
    }
   ],
   "source": [
    "import feast\n",
    "from joblib import dump\n",
    "import pandas as pd\n",
    "from sklearn.linear_model import LinearRegression\n",
    "\n",
    "# Load driver order data\n",
    "orders = pd.read_csv(\"/content/feast-driver-ranking-tutorial/driver_orders.csv\", sep=\"\\t\")\n",
    "orders[\"event_timestamp\"] = pd.to_datetime(orders[\"event_timestamp\"])\n",
    "\n",
    "# Connect to your feature store provider\n",
    "fs = feast.FeatureStore(repo_path=\"/content/feast-driver-ranking-tutorial/driver_ranking\")\n",
    "\n",
    "# Retrieve training data from BigQuery\n",
    "training_df = fs.get_historical_features(\n",
    "    entity_df=orders,\n",
    "    features=[\n",
    "        \"driver_hourly_stats:conv_rate\",\n",
    "        \"driver_hourly_stats:acc_rate\",\n",
    "        \"driver_hourly_stats:avg_daily_trips\",\n",
    "    ],\n",
    ").to_df()\n",
    "\n",
    "print(\"----- Feature schema -----\\n\")\n",
    "print(training_df.info())\n",
    "\n",
    "print()\n",
    "print(\"----- Example features -----\\n\")\n",
    "print(training_df.head())\n",
    "\n",
    "# Train model\n",
    "target = \"trip_completed\"\n",
    "\n",
    "reg = LinearRegression()\n",
    "train_X = training_df[training_df.columns.drop(target).drop(\"event_timestamp\")]\n",
    "train_Y = training_df.loc[:, target]\n",
    "reg.fit(train_X[sorted(train_X)], train_Y)\n",
    "\n",
    "# Save model\n",
    "dump(reg, \"driver_model.bin\")"
   ]
  },
  {
   "cell_type": "markdown",
   "metadata": {
    "id": "HpHacyo47Are"
   },
   "source": [
    "## Step 6: Materialize your online store\n",
    "Apply and materialize data to Firestore"
   ]
  },
  {
   "cell_type": "code",
   "execution_count": null,
   "metadata": {
    "colab": {
     "base_uri": "https://localhost:8080/"
    },
    "id": "67627WRSajIk",
    "outputId": "cdf6fdcf-22e2-46fb-b2c1-983cb8fb3307"
   },
   "outputs": [
    {
     "name": "stdout",
     "output_type": "stream",
     "text": [
      "/usr/local/lib/python3.11/dist-packages/jupyter_client/connect.py:28: DeprecationWarning: Jupyter is migrating its paths to use standard platformdirs\n",
      "given by the platformdirs library.  To remove this warning and\n",
      "see the appropriate new directories, set the environment variable\n",
      "`JUPYTER_PLATFORM_DIRS=1` and then run `jupyter --paths`.\n",
      "The use of platformdirs will be the default in `jupyter_core` v6\n",
      "  from jupyter_core.paths import jupyter_data_dir, jupyter_runtime_dir, secure_write\n",
      "/usr/local/lib/python3.11/dist-packages/pydantic/_internal/_fields.py:192: UserWarning: Field name \"vector_enabled\" in \"SqliteOnlineStoreConfig\" shadows an attribute in parent \"VectorStoreConfig\"\n",
      "  warnings.warn(\n",
      "/usr/local/lib/python3.11/dist-packages/pydantic/_internal/_fields.py:192: UserWarning: Field name \"vector_len\" in \"SqliteOnlineStoreConfig\" shadows an attribute in parent \"VectorStoreConfig\"\n",
      "  warnings.warn(\n",
      "/usr/local/lib/python3.11/dist-packages/feast/repo_config.py:267: RuntimeWarning: `entity_key_serialization_version` is either not specified in the feature_store.yaml, or is specified to a value <= 1.This serialization version may cause errors when trying to write fields with the `Long` data type into the online store. Specifying `entity_key_serialization_version` to 2 is recommended for new projects. \n",
      "  warnings.warn(\n",
      "Materializing \u001b[1m\u001b[32m1\u001b[0m feature views from \u001b[1m\u001b[32m2021-01-01 00:00:00+00:00\u001b[0m to \u001b[1m\u001b[32m2022-01-01 00:00:00+00:00\u001b[0m into the \u001b[1m\u001b[32msqlite\u001b[0m online store.\n",
      "\n",
      "\u001b[1m\u001b[32mdriver_hourly_stats\u001b[0m:\n",
      "100%|██████████████████████████████████████████████████████████████| 10/10 [00:00<00:00, 376.42it/s]\n"
     ]
    }
   ],
   "source": [
    "!cd /content/feast-driver-ranking-tutorial/driver_ranking/ && feast materialize 2021-01-01T00:00:00 2022-01-01T00:00:00"
   ]
  },
  {
   "cell_type": "markdown",
   "metadata": {
    "id": "-869cxQO2ana"
   },
   "source": [
    "### Step 7:  Make Prediction"
   ]
  },
  {
   "cell_type": "code",
   "execution_count": null,
   "metadata": {
    "id": "VP85XeGFzNYl"
   },
   "outputs": [],
   "source": [
    "import pandas as pd\n",
    "import feast\n",
    "from joblib import load\n",
    "\n",
    "\n",
    "class DriverRankingModel:\n",
    "    def __init__(self):\n",
    "        # Load model\n",
    "        self.model = load(\"/content/driver_model.bin\")\n",
    "\n",
    "        # Set up feature store\n",
    "        self.fs = feast.FeatureStore(repo_path=\"/content/feast-driver-ranking-tutorial/driver_ranking/\")\n",
    "\n",
    "    def predict(self, driver_ids):\n",
    "        # Read features from Feast\n",
    "        driver_features = self.fs.get_online_features(\n",
    "            entity_rows=[{\"driver_id\": driver_id} for driver_id in driver_ids],\n",
    "            features=[\n",
    "                \"driver_hourly_stats:conv_rate\",\n",
    "                \"driver_hourly_stats:acc_rate\",\n",
    "                \"driver_hourly_stats:avg_daily_trips\",\n",
    "            ],\n",
    "        )\n",
    "        df = pd.DataFrame.from_dict(driver_features.to_dict())\n",
    "\n",
    "        # Make prediction\n",
    "        df[\"prediction\"] = self.model.predict(df[sorted(df)])\n",
    "\n",
    "        # Choose best driver\n",
    "        best_driver_id = df[\"driver_id\"].iloc[df[\"prediction\"].argmax()]\n",
    "\n",
    "        # return best driver\n",
    "        return best_driver_id"
   ]
  },
  {
   "cell_type": "code",
   "execution_count": null,
   "metadata": {
    "id": "f9AJ842Rk3E9"
   },
   "outputs": [],
   "source": [
    "def make_drivers_prediction():\n",
    "    drivers = [1001, 1002, 1003, 1004]\n",
    "    model = DriverRankingModel()\n",
    "    best_driver = model.predict(drivers)\n",
    "    print(f\"Prediction for best driver id: {best_driver}\")"
   ]
  },
  {
   "cell_type": "code",
   "execution_count": null,
   "metadata": {
    "colab": {
     "base_uri": "https://localhost:8080/"
    },
    "id": "lq2TNXfjbb8e",
    "outputId": "e02216b5-9215-43d8-bb09-43b3255c4e81"
   },
   "outputs": [
    {
     "name": "stdout",
     "output_type": "stream",
     "text": [
      "Prediction for best driver id: 1001\n"
     ]
    },
    {
     "name": "stderr",
     "output_type": "stream",
     "text": [
      "/usr/local/lib/python3.11/dist-packages/feast/repo_config.py:267: RuntimeWarning: `entity_key_serialization_version` is either not specified in the feature_store.yaml, or is specified to a value <= 1.This serialization version may cause errors when trying to write fields with the `Long` data type into the online store. Specifying `entity_key_serialization_version` to 2 is recommended for new projects. \n",
      "  warnings.warn(\n"
     ]
    }
   ],
   "source": [
    "make_drivers_prediction()"
   ]
  }
 ],
 "metadata": {
  "colab": {
   "provenance": []
  },
  "environment": {
   "kernel": "conda-base-py",
   "name": "workbench-notebooks.m133",
   "type": "gcloud",
   "uri": "us-docker.pkg.dev/deeplearning-platform-release/gcr.io/workbench-notebooks:m133"
  },
  "kernelspec": {
   "display_name": "Python 3 (ipykernel) (Local)",
   "language": "python",
   "name": "conda-base-py"
  },
  "language_info": {
   "codemirror_mode": {
    "name": "ipython",
    "version": 3
   },
   "file_extension": ".py",
   "mimetype": "text/x-python",
   "name": "python",
   "nbconvert_exporter": "python",
   "pygments_lexer": "ipython3",
   "version": "3.10.18"
  }
 },
 "nbformat": 4,
 "nbformat_minor": 4
}
